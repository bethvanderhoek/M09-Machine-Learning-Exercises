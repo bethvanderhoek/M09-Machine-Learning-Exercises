{
 "cells": [
  {
   "cell_type": "code",
   "execution_count": 3,
   "metadata": {},
   "outputs": [],
   "source": [
    "import pandas as pd\n",
    "import seaborn as sns\n",
    "import matplotlib.pyplot as plt\n",
    "import scipy.stats\n",
    "from sklearn.model_selection import train_test_split\n",
    "from sklearn.linear_model import LinearRegression"
   ]
  },
  {
   "cell_type": "code",
   "execution_count": 4,
   "metadata": {},
   "outputs": [],
   "source": [
    "cars = pd.read_csv('Cars93.csv')"
   ]
  },
  {
   "cell_type": "code",
   "execution_count": 5,
   "metadata": {},
   "outputs": [],
   "source": [
    "cars = cars.dropna()"
   ]
  },
  {
   "cell_type": "code",
   "execution_count": 6,
   "metadata": {},
   "outputs": [],
   "source": [
    "cars = cars.drop('Unnamed: 0', axis=1)"
   ]
  },
  {
   "cell_type": "code",
   "execution_count": 7,
   "metadata": {},
   "outputs": [],
   "source": [
    "cars = cars.drop(columns=['Manufacturer', 'Model', 'Make'])"
   ]
  },
  {
   "cell_type": "code",
   "execution_count": 8,
   "metadata": {},
   "outputs": [],
   "source": [
    "y = cars[['MPG.highway']].copy()"
   ]
  },
  {
   "cell_type": "code",
   "execution_count": 9,
   "metadata": {},
   "outputs": [],
   "source": [
    "X = cars.drop('MPG.highway', axis=1).copy()"
   ]
  },
  {
   "cell_type": "code",
   "execution_count": 10,
   "metadata": {},
   "outputs": [],
   "source": [
    "X = pd.get_dummies(X)"
   ]
  },
  {
   "cell_type": "code",
   "execution_count": 11,
   "metadata": {},
   "outputs": [],
   "source": [
    "X_train, X_test, y_train, y_test = train_test_split(X, y, test_size = 0.25, random_state=0)"
   ]
  },
  {
   "cell_type": "code",
   "execution_count": 12,
   "metadata": {},
   "outputs": [],
   "source": [
    "reg = LinearRegression().fit(X_train, y_train)\n",
    "predict = reg.predict(X_test)\n"
   ]
  },
  {
   "cell_type": "code",
   "execution_count": 14,
   "metadata": {},
   "outputs": [
    {
     "ename": "ValueError",
     "evalue": "too many values to unpack (expected 4)",
     "output_type": "error",
     "traceback": [
      "\u001b[1;31m---------------------------------------------------------------------------\u001b[0m",
      "\u001b[1;31mValueError\u001b[0m                                Traceback (most recent call last)",
      "\u001b[1;32mc:\\Users\\Beth Vander Hoek\\Documents\\Dev10\\M09 Machine Learning Basics\\exercises\\cars-93-solo.ipynb Cell 11\u001b[0m in \u001b[0;36m<cell line: 2>\u001b[1;34m()\u001b[0m\n\u001b[0;32m      <a href='vscode-notebook-cell:/c%3A/Users/Beth%20Vander%20Hoek/Documents/Dev10/M09%20Machine%20Learning%20Basics/exercises/cars-93-solo.ipynb#X13sZmlsZQ%3D%3D?line=0'>1</a>\u001b[0m ax \u001b[39m=\u001b[39m plt\u001b[39m.\u001b[39mscatter(x\u001b[39m=\u001b[39my_test, y\u001b[39m=\u001b[39mpredict)\n\u001b[1;32m----> <a href='vscode-notebook-cell:/c%3A/Users/Beth%20Vander%20Hoek/Documents/Dev10/M09%20Machine%20Learning%20Basics/exercises/cars-93-solo.ipynb#X13sZmlsZQ%3D%3D?line=1'>2</a>\u001b[0m slope, intercept, r, p, stderr \u001b[39m=\u001b[39m scipy\u001b[39m.\u001b[39;49mstats\u001b[39m.\u001b[39;49mlinregress(y_test, predict)\n\u001b[0;32m      <a href='vscode-notebook-cell:/c%3A/Users/Beth%20Vander%20Hoek/Documents/Dev10/M09%20Machine%20Learning%20Basics/exercises/cars-93-solo.ipynb#X13sZmlsZQ%3D%3D?line=2'>3</a>\u001b[0m line \u001b[39m=\u001b[39m \u001b[39mf\u001b[39m\u001b[39m'\u001b[39m\u001b[39mSlope: \u001b[39m\u001b[39m{\u001b[39;00mslope\u001b[39m:\u001b[39;00m\u001b[39m .2f\u001b[39m\u001b[39m}\u001b[39;00m\u001b[39m\\n\u001b[39;00m\u001b[39mIntercept: \u001b[39m\u001b[39m{\u001b[39;00mintercept\u001b[39m:\u001b[39;00m\u001b[39m.2f\u001b[39m\u001b[39m}\u001b[39;00m\u001b[39m\\n\u001b[39;00m\u001b[39mCorrelation coefficient: r=\u001b[39m\u001b[39m{\u001b[39;00mr\u001b[39m:\u001b[39;00m\u001b[39m.2f\u001b[39m\u001b[39m}\u001b[39;00m\u001b[39m'\u001b[39m \n\u001b[0;32m      <a href='vscode-notebook-cell:/c%3A/Users/Beth%20Vander%20Hoek/Documents/Dev10/M09%20Machine%20Learning%20Basics/exercises/cars-93-solo.ipynb#X13sZmlsZQ%3D%3D?line=4'>5</a>\u001b[0m ax\u001b[39m.\u001b[39mplt(y_test, intercept \u001b[39m+\u001b[39m slope\u001b[39m*\u001b[39my_test, label\u001b[39m=\u001b[39mline, color\u001b[39m=\u001b[39m \u001b[39m'\u001b[39m\u001b[39mred\u001b[39m\u001b[39m'\u001b[39m)\n",
      "File \u001b[1;32mc:\\Users\\Beth Vander Hoek\\Anaconda3\\lib\\site-packages\\scipy\\stats\\_stats_mstats_common.py:155\u001b[0m, in \u001b[0;36mlinregress\u001b[1;34m(x, y, alternative)\u001b[0m\n\u001b[0;32m    150\u001b[0m ymean \u001b[39m=\u001b[39m np\u001b[39m.\u001b[39mmean(y, \u001b[39mNone\u001b[39;00m)\n\u001b[0;32m    152\u001b[0m \u001b[39m# Average sums of square differences from the mean\u001b[39;00m\n\u001b[0;32m    153\u001b[0m \u001b[39m#   ssxm = mean( (x-mean(x))^2 )\u001b[39;00m\n\u001b[0;32m    154\u001b[0m \u001b[39m#   ssxym = mean( (x-mean(x)) * (y-mean(y)) )\u001b[39;00m\n\u001b[1;32m--> 155\u001b[0m ssxm, ssxym, _, ssym \u001b[39m=\u001b[39m np\u001b[39m.\u001b[39mcov(x, y, bias\u001b[39m=\u001b[39m\u001b[39m1\u001b[39m)\u001b[39m.\u001b[39mflat\n\u001b[0;32m    157\u001b[0m \u001b[39m# R-value\u001b[39;00m\n\u001b[0;32m    158\u001b[0m \u001b[39m#   r = ssxym / sqrt( ssxm * ssym )\u001b[39;00m\n\u001b[0;32m    159\u001b[0m \u001b[39mif\u001b[39;00m ssxm \u001b[39m==\u001b[39m \u001b[39m0.0\u001b[39m \u001b[39mor\u001b[39;00m ssym \u001b[39m==\u001b[39m \u001b[39m0.0\u001b[39m:\n\u001b[0;32m    160\u001b[0m     \u001b[39m# If the denominator was going to be 0\u001b[39;00m\n",
      "\u001b[1;31mValueError\u001b[0m: too many values to unpack (expected 4)"
     ]
    },
    {
     "data": {
      "image/png": "[encoded data removed]",
      "text/plain": [
       "<Figure size 432x288 with 1 Axes>"
      ]
     },
     "metadata": {
      "needs_background": "light"
     },
     "output_type": "display_data"
    }
   ],
   "source": [
    "ax = plt.scatter(x=y_test, y=predict)\n",
    "slope, intercept, r, p, stderr = scipy.stats.linregress(y_test, predict)\n",
    "line = f'Slope: {slope: .2f}\\nIntercept: {intercept:.2f}\\nCorrelation coefficient: r={r:.2f}' \n",
    "\n",
    "ax.plt(y_test, intercept + slope*y_test, label=line, color= 'red')"
   ]
  }
 ],
 "metadata": {
  "kernelspec": {
   "display_name": "Python 3.9.12 ('base')",
   "language": "python",
   "name": "python3"
  },
  "language_info": {
   "codemirror_mode": {
    "name": "ipython",
    "version": 3
   },
   "file_extension": ".py",
   "mimetype": "text/x-python",
   "name": "python",
   "nbconvert_exporter": "python",
   "pygments_lexer": "ipython3",
   "version": "3.9.12"
  },
  "orig_nbformat": 4,
  "vscode": {
   "interpreter": {
    "hash": "838c189ea11782a94abe2f947e1d60dc606b228f16bfdf97db14acfb3c63e65f"
   }
  }
 },
 "nbformat": 4,
 "nbformat_minor": 2
}
