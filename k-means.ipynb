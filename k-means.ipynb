{
 "cells": [
  {
   "cell_type": "code",
   "execution_count": 148,
   "metadata": {},
   "outputs": [],
   "source": [
    "import pandas as pd\n",
    "import numpy as np\n",
    "from sklearn.impute import SimpleImputer\n",
    "from sklearn.preprocessing import StandardScaler\n",
    "from sklearn.cluster import KMeans\n",
    "import matplotlib.pyplot as plt"
   ]
  },
  {
   "cell_type": "code",
   "execution_count": 149,
   "metadata": {},
   "outputs": [],
   "source": [
    "animals = pd.read_csv('k-animal.csv')"
   ]
  },
  {
   "cell_type": "code",
   "execution_count": 150,
   "metadata": {},
   "outputs": [],
   "source": [
    "animals = animals.drop('Comments', axis=1)"
   ]
  },
  {
   "cell_type": "code",
   "execution_count": 151,
   "metadata": {},
   "outputs": [
    {
     "name": "stdout",
     "output_type": "stream",
     "text": [
      "<class 'pandas.core.frame.DataFrame'>\n",
      "RangeIndex: 344 entries, 0 to 343\n",
      "Data columns (total 9 columns):\n",
      " #   Column               Non-Null Count  Dtype  \n",
      "---  ------               --------------  -----  \n",
      " 0   Region               344 non-null    object \n",
      " 1   Stage                344 non-null    object \n",
      " 2   Individual ID        344 non-null    object \n",
      " 3   Culmen Length (mm)   342 non-null    float64\n",
      " 4   Culmen Depth (mm)    342 non-null    float64\n",
      " 5   Flipper Length (mm)  342 non-null    float64\n",
      " 6   Body Mass (g)        342 non-null    float64\n",
      " 7   Delta 15 N (o/oo)    330 non-null    float64\n",
      " 8   Delta 13 C (o/oo)    331 non-null    float64\n",
      "dtypes: float64(6), object(3)\n",
      "memory usage: 24.3+ KB\n"
     ]
    }
   ],
   "source": [
    "animals.info()"
   ]
  },
  {
   "cell_type": "code",
   "execution_count": 152,
   "metadata": {},
   "outputs": [
    {
     "data": {
      "text/plain": [
       "44.45"
      ]
     },
     "execution_count": 152,
     "metadata": {},
     "output_type": "execute_result"
    }
   ],
   "source": [
    "animals['Culmen Length (mm)'].median()"
   ]
  },
  {
   "cell_type": "code",
   "execution_count": 153,
   "metadata": {},
   "outputs": [
    {
     "data": {
      "text/plain": [
       "17.3"
      ]
     },
     "execution_count": 153,
     "metadata": {},
     "output_type": "execute_result"
    }
   ],
   "source": [
    "animals['Culmen Depth (mm)'].median()"
   ]
  },
  {
   "cell_type": "code",
   "execution_count": 154,
   "metadata": {},
   "outputs": [
    {
     "data": {
      "text/plain": [
       "197.0"
      ]
     },
     "execution_count": 154,
     "metadata": {},
     "output_type": "execute_result"
    }
   ],
   "source": [
    "animals['Flipper Length (mm)'].median()"
   ]
  },
  {
   "cell_type": "code",
   "execution_count": 155,
   "metadata": {},
   "outputs": [
    {
     "data": {
      "text/plain": [
       "4050.0"
      ]
     },
     "execution_count": 155,
     "metadata": {},
     "output_type": "execute_result"
    }
   ],
   "source": [
    "animals['Body Mass (g)'].median()"
   ]
  },
  {
   "cell_type": "code",
   "execution_count": 156,
   "metadata": {},
   "outputs": [
    {
     "data": {
      "text/plain": [
       "8.652405"
      ]
     },
     "execution_count": 156,
     "metadata": {},
     "output_type": "execute_result"
    }
   ],
   "source": [
    "animals['Delta 15 N (o/oo)'].median()"
   ]
  },
  {
   "cell_type": "code",
   "execution_count": 157,
   "metadata": {},
   "outputs": [
    {
     "data": {
      "text/plain": [
       "-25.83352"
      ]
     },
     "execution_count": 157,
     "metadata": {},
     "output_type": "execute_result"
    }
   ],
   "source": [
    "animals['Delta 13 C (o/oo)'].median()"
   ]
  },
  {
   "cell_type": "code",
   "execution_count": 158,
   "metadata": {},
   "outputs": [],
   "source": [
    "animals = animals.fillna({'Culmen Length (mm)': 44.45, 'Culmen Depth (mm)': 17.3, 'Flipper Length (mm)': 197.0, 'Body Mass (g)': 4050.0, 'Delta 15 N (o/oo)': 8.65, 'Delta 13 C (o/oo)': -25.83})"
   ]
  },
  {
   "cell_type": "code",
   "execution_count": 159,
   "metadata": {},
   "outputs": [
    {
     "data": {
      "text/html": [
       "<div>\n",
       "<style scoped>\n",
       "    .dataframe tbody tr th:only-of-type {\n",
       "        vertical-align: middle;\n",
       "    }\n",
       "\n",
       "    .dataframe tbody tr th {\n",
       "        vertical-align: top;\n",
       "    }\n",
       "\n",
       "    .dataframe thead th {\n",
       "        text-align: right;\n",
       "    }\n",
       "</style>\n",
       "<table border=\"1\" class=\"dataframe\">\n",
       "  <thead>\n",
       "    <tr style=\"text-align: right;\">\n",
       "      <th></th>\n",
       "      <th>Region</th>\n",
       "      <th>Stage</th>\n",
       "      <th>Individual ID</th>\n",
       "      <th>Culmen Length (mm)</th>\n",
       "      <th>Culmen Depth (mm)</th>\n",
       "      <th>Flipper Length (mm)</th>\n",
       "      <th>Body Mass (g)</th>\n",
       "      <th>Delta 15 N (o/oo)</th>\n",
       "      <th>Delta 13 C (o/oo)</th>\n",
       "    </tr>\n",
       "  </thead>\n",
       "  <tbody>\n",
       "    <tr>\n",
       "      <th>0</th>\n",
       "      <td>Anvers</td>\n",
       "      <td>Adult, 1 Egg Stage</td>\n",
       "      <td>N1A1</td>\n",
       "      <td>-0.887622</td>\n",
       "      <td>0.787289</td>\n",
       "      <td>-1.420541</td>\n",
       "      <td>-0.564625</td>\n",
       "      <td>-0.148165</td>\n",
       "      <td>-0.177707</td>\n",
       "    </tr>\n",
       "  </tbody>\n",
       "</table>\n",
       "</div>"
      ],
      "text/plain": [
       "   Region               Stage Individual ID  Culmen Length (mm)  \\\n",
       "0  Anvers  Adult, 1 Egg Stage          N1A1           -0.887622   \n",
       "\n",
       "   Culmen Depth (mm)  Flipper Length (mm)  Body Mass (g)  Delta 15 N (o/oo)  \\\n",
       "0           0.787289            -1.420541      -0.564625          -0.148165   \n",
       "\n",
       "   Delta 13 C (o/oo)  \n",
       "0          -0.177707  "
      ]
     },
     "execution_count": 159,
     "metadata": {},
     "output_type": "execute_result"
    }
   ],
   "source": [
    "object = StandardScaler()\n",
    "animals['Culmen Length (mm)'] = object.fit_transform(animals[['Culmen Length (mm)']])\n",
    "animals['Culmen Depth (mm)'] = object.fit_transform(animals[['Culmen Depth (mm)']])\n",
    "animals['Flipper Length (mm)'] = object.fit_transform(animals[['Flipper Length (mm)']])\n",
    "animals['Body Mass (g)'] = object.fit_transform(animals[['Body Mass (g)']])\n",
    "animals['Delta 15 N (o/oo)'] = object.fit_transform(animals[['Delta 15 N (o/oo)']])\n",
    "animals['Delta 13 C (o/oo)'] = object.fit_transform(animals[['Delta 13 C (o/oo)']])\n",
    "animals.head(1)\n"
   ]
  },
  {
   "cell_type": "code",
   "execution_count": 160,
   "metadata": {},
   "outputs": [],
   "source": [
    "animals = animals.drop(columns=['Region', 'Stage'])"
   ]
  },
  {
   "cell_type": "code",
   "execution_count": 161,
   "metadata": {},
   "outputs": [],
   "source": [
    "animals['AnimalID'] = range(1,345)\n"
   ]
  },
  {
   "cell_type": "code",
   "execution_count": 162,
   "metadata": {},
   "outputs": [],
   "source": [
    "animals = animals.drop(columns=['Individual ID', 'AnimalID'])"
   ]
  },
  {
   "cell_type": "code",
   "execution_count": 163,
   "metadata": {},
   "outputs": [],
   "source": [
    "kmeans2 = KMeans(n_clusters = 2, random_state = 0).fit_predict(animals)"
   ]
  },
  {
   "cell_type": "code",
   "execution_count": 164,
   "metadata": {},
   "outputs": [
    {
     "data": {
      "text/plain": [
       "array([0, 0, 0, 0, 0, 0, 0, 0, 0, 0, 0, 0, 0, 0, 0, 0, 0, 0, 0, 0, 0, 0,\n",
       "       0, 0, 0, 0, 0, 0, 0, 0, 0, 0, 0, 0, 0, 0, 0, 0, 0, 0, 0, 0, 0, 0,\n",
       "       0, 0, 0, 0, 0, 0, 0, 0, 0, 0, 0, 0, 0, 0, 0, 0, 0, 0, 0, 0, 0, 0,\n",
       "       0, 0, 0, 0, 0, 0, 0, 0, 0, 0, 0, 0, 0, 0, 0, 0, 0, 0, 0, 0, 0, 0,\n",
       "       0, 0, 0, 0, 0, 0, 0, 0, 0, 0, 0, 0, 0, 0, 0, 0, 0, 0, 0, 0, 0, 0,\n",
       "       0, 0, 0, 0, 0, 0, 0, 0, 0, 0, 0, 0, 0, 0, 0, 0, 0, 0, 0, 0, 0, 0,\n",
       "       0, 0, 0, 0, 0, 0, 0, 0, 0, 0, 0, 0, 0, 0, 0, 0, 0, 0, 0, 0, 0, 0,\n",
       "       0, 0, 0, 0, 0, 0, 0, 0, 0, 0, 0, 0, 0, 0, 0, 0, 0, 0, 0, 0, 0, 0,\n",
       "       0, 0, 0, 0, 0, 0, 0, 0, 0, 0, 0, 0, 0, 0, 0, 0, 0, 0, 0, 0, 0, 0,\n",
       "       0, 0, 0, 0, 0, 0, 0, 0, 0, 0, 0, 0, 0, 0, 0, 0, 0, 0, 0, 0, 0, 0,\n",
       "       1, 1, 1, 1, 1, 1, 1, 1, 1, 1, 1, 1, 1, 1, 1, 1, 1, 1, 1, 1, 1, 1,\n",
       "       1, 1, 1, 1, 1, 1, 1, 1, 1, 1, 1, 1, 1, 1, 1, 1, 1, 1, 1, 1, 1, 1,\n",
       "       1, 1, 1, 1, 1, 1, 1, 1, 1, 1, 1, 1, 1, 1, 1, 1, 1, 1, 1, 1, 1, 1,\n",
       "       1, 1, 1, 1, 1, 1, 1, 1, 1, 1, 1, 1, 1, 1, 1, 1, 1, 1, 1, 1, 1, 1,\n",
       "       1, 1, 1, 1, 1, 1, 1, 1, 1, 1, 1, 1, 1, 1, 1, 1, 1, 1, 1, 1, 1, 1,\n",
       "       1, 1, 1, 1, 1, 1, 1, 1, 1, 0, 1, 1, 1, 1])"
      ]
     },
     "execution_count": 164,
     "metadata": {},
     "output_type": "execute_result"
    }
   ],
   "source": [
    "kmeans2"
   ]
  },
  {
   "cell_type": "code",
   "execution_count": 165,
   "metadata": {},
   "outputs": [],
   "source": [
    "label0 = animals[kmeans2 ==0]\n",
    "label1 = animals[kmeans2 ==1]"
   ]
  },
  {
   "cell_type": "code",
   "execution_count": 166,
   "metadata": {},
   "outputs": [
    {
     "data": {
      "text/plain": [
       "<matplotlib.collections.PathCollection at 0x13d2ba5a250>"
      ]
     },
     "execution_count": 166,
     "metadata": {},
     "output_type": "execute_result"
    },
    {
     "data": {
      "image/png": "[encoded data removed]",
      "text/plain": [
       "<Figure size 432x288 with 1 Axes>"
      ]
     },
     "metadata": {
      "needs_background": "light"
     },
     "output_type": "display_data"
    }
   ],
   "source": [
    "plt.scatter(x=label0['Culmen Depth (mm)'], y=label0['Body Mass (g)'], color='red')\n",
    "plt.scatter(x=label1['Culmen Depth (mm)'], y=label1['Body Mass (g)'], color='green')"
   ]
  },
  {
   "cell_type": "code",
   "execution_count": 167,
   "metadata": {},
   "outputs": [
    {
     "data": {
      "text/plain": [
       "<matplotlib.collections.PathCollection at 0x13d2b973af0>"
      ]
     },
     "execution_count": 167,
     "metadata": {},
     "output_type": "execute_result"
    },
    {
     "data": {
      "image/png": "[encoded data removed]",
      "text/plain": [
       "<Figure size 432x288 with 1 Axes>"
      ]
     },
     "metadata": {
      "needs_background": "light"
     },
     "output_type": "display_data"
    }
   ],
   "source": [
    "kmeans3 = KMeans(n_clusters = 3, random_state = 0).fit_predict(animals)\n",
    "label0 = animals[kmeans3 ==0]\n",
    "label1 = animals[kmeans3 ==1]\n",
    "label2 = animals[kmeans3 ==2]\n",
    "plt.scatter(x=label0['Culmen Depth (mm)'], y=label0['Body Mass (g)'], color='red')\n",
    "plt.scatter(x=label1['Culmen Depth (mm)'], y=label1['Body Mass (g)'], color='green')\n",
    "plt.scatter(x=label2['Culmen Depth (mm)'], y=label2['Body Mass (g)'], color='blue')"
   ]
  },
  {
   "cell_type": "code",
   "execution_count": 168,
   "metadata": {},
   "outputs": [
    {
     "data": {
      "text/plain": [
       "<matplotlib.collections.PathCollection at 0x13d2bc4e4f0>"
      ]
     },
     "execution_count": 168,
     "metadata": {},
     "output_type": "execute_result"
    },
    {
     "data": {
      "image/png": "[encoded data removed]",
      "text/plain": [
       "<Figure size 432x288 with 1 Axes>"
      ]
     },
     "metadata": {
      "needs_background": "light"
     },
     "output_type": "display_data"
    }
   ],
   "source": [
    "kmeans4 = KMeans(n_clusters = 4, random_state = 0).fit_predict(animals)\n",
    "label0 = animals[kmeans4 ==0]\n",
    "label1 = animals[kmeans4 ==1]\n",
    "label2 = animals[kmeans4 ==2]\n",
    "label3 = animals[kmeans4 ==3]\n",
    "plt.scatter(x=label0['Culmen Depth (mm)'], y=label0['Body Mass (g)'], color='red')\n",
    "plt.scatter(x=label1['Culmen Depth (mm)'], y=label1['Body Mass (g)'], color='green')\n",
    "plt.scatter(x=label2['Culmen Depth (mm)'], y=label2['Body Mass (g)'], color='blue')\n",
    "plt.scatter(x=label3['Culmen Depth (mm)'], y=label3['Body Mass (g)'], color='yellow')"
   ]
  },
  {
   "cell_type": "code",
   "execution_count": 169,
   "metadata": {},
   "outputs": [
    {
     "data": {
      "text/plain": [
       "<matplotlib.collections.PathCollection at 0x13d2bca7370>"
      ]
     },
     "execution_count": 169,
     "metadata": {},
     "output_type": "execute_result"
    },
    {
     "data": {
      "image/png": "[encoded data removed]",
      "text/plain": [
       "<Figure size 432x288 with 1 Axes>"
      ]
     },
     "metadata": {
      "needs_background": "light"
     },
     "output_type": "display_data"
    }
   ],
   "source": [
    "kmeans5 = KMeans(n_clusters = 5, random_state = 0).fit_predict(animals)\n",
    "label0 = animals[kmeans5 ==0]\n",
    "label1 = animals[kmeans5 ==1]\n",
    "label2 = animals[kmeans5 ==2]\n",
    "label3 = animals[kmeans5 ==3]\n",
    "label4 = animals[kmeans5 ==4]\n",
    "plt.scatter(x=label0['Culmen Depth (mm)'], y=label0['Body Mass (g)'], color='red')\n",
    "plt.scatter(x=label1['Culmen Depth (mm)'], y=label1['Body Mass (g)'], color='green')\n",
    "plt.scatter(x=label2['Culmen Depth (mm)'], y=label2['Body Mass (g)'], color='blue')\n",
    "plt.scatter(x=label3['Culmen Depth (mm)'], y=label3['Body Mass (g)'], color='yellow')\n",
    "plt.scatter(x=label4['Culmen Depth (mm)'], y=label4['Body Mass (g)'], color='orange')"
   ]
  },
  {
   "cell_type": "code",
   "execution_count": 171,
   "metadata": {},
   "outputs": [],
   "source": [
    "kmeans6 = KMeans(n_clusters = 6, random_state = 0).fit(animals)\n",
    "kmeans7 = KMeans(n_clusters = 7, random_state = 0).fit(animals)\n",
    "kmeans8 = KMeans(n_clusters = 8, random_state = 0).fit(animals)\n",
    "kmeans9 = KMeans(n_clusters = 9, random_state = 0).fit(animals)"
   ]
  },
  {
   "cell_type": "code",
   "execution_count": 172,
   "metadata": {},
   "outputs": [],
   "source": [
    "distortions = []\n",
    "K=range(2, 10)\n",
    "for k in K:\n",
    "    kmeanModel = KMeans(n_clusters=k)\n",
    "    kmeanModel.fit(animals)\n",
    "    distortions.append(kmeanModel.inertia_)"
   ]
  },
  {
   "cell_type": "code",
   "execution_count": 173,
   "metadata": {},
   "outputs": [
    {
     "data": {
      "image/png": "[encoded data removed]",
      "text/plain": [
       "<Figure size 1152x576 with 1 Axes>"
      ]
     },
     "metadata": {
      "needs_background": "light"
     },
     "output_type": "display_data"
    }
   ],
   "source": [
    "plt.figure(figsize = (16,8))\n",
    "plt.plot(K, distortions, 'bx-')\n",
    "plt.xlabel('k')\n",
    "plt.ylabel('Distortion')\n",
    "plt.title('The Elbow Method showing the optimal number of clusters for animals dataframe.')\n",
    "plt.show()"
   ]
  },
  {
   "cell_type": "markdown",
   "metadata": {},
   "source": [
    "3 clusters seems to be the reasonable choice for K in this animals dataset."
   ]
  }
 ],
 "metadata": {
  "kernelspec": {
   "display_name": "Python 3.9.12 ('base')",
   "language": "python",
   "name": "python3"
  },
  "language_info": {
   "codemirror_mode": {
    "name": "ipython",
    "version": 3
   },
   "file_extension": ".py",
   "mimetype": "text/x-python",
   "name": "python",
   "nbconvert_exporter": "python",
   "pygments_lexer": "ipython3",
   "version": "3.9.12"
  },
  "orig_nbformat": 4,
  "vscode": {
   "interpreter": {
    "hash": "838c189ea11782a94abe2f947e1d60dc606b228f16bfdf97db14acfb3c63e65f"
   }
  }
 },
 "nbformat": 4,
 "nbformat_minor": 2
}
